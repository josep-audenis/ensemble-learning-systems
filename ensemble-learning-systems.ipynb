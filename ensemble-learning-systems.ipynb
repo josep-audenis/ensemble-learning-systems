{
 "cells": [
  {
   "cell_type": "markdown",
   "id": "41b5ea16",
   "metadata": {},
   "source": [
    "# Accuracy vs. Energy Efficiency Design Trade-Offs in Ensemble Learning Systems\n",
    "\n",
    "Reimplementation of the paper \"The More the Merrier? Navigating Accuracy vs. Energy Efficiency Design Trade-Offs in Ensemble Learning Systems.\" [Omar et al. (2024)](https://arxiv.org/pdf/2407.02914)"
   ]
  },
  {
   "cell_type": "code",
   "execution_count": 1,
   "id": "02126c3a",
   "metadata": {},
   "outputs": [],
   "source": [
    "import sklearn\n",
    "# import codecarbon"
   ]
  },
  {
   "cell_type": "code",
   "execution_count": 4,
   "id": "50d885ef",
   "metadata": {},
   "outputs": [],
   "source": [
    "from zipfile import ZipFile\n",
    "with ZipFile(\"./datasets/TUNADROMD/tunadromd.zip\", \"r\") as zObject:\n",
    "    zObject.extractall(path=\"./datasets/TUNADROMD/\")\n",
    "with ZipFile(\"./datasets/RT-IoT2022/rt-iot2022.zip\", \"r\") as zObject:\n",
    "    zObject.extractall(path=\"./datasets/RT-IoT2022/\")\n",
    "with ZipFile(\"./datasets/Heart Disease/heart+disease.zip\", \"r\") as zObject:\n",
    "    zObject.extractall(path=\"./datasets/Heart Disease/\")\n",
    "with ZipFile(\"./datasets/Default of Credit Card Clients/default+of+credit+card+clients.zip\", \"r\") as zObject:\n",
    "    zObject.extractall(path=\"./datasets/Default of Credit Card Clients/\")"
   ]
  }
 ],
 "metadata": {
  "kernelspec": {
   "display_name": "base",
   "language": "python",
   "name": "python3"
  },
  "language_info": {
   "codemirror_mode": {
    "name": "ipython",
    "version": 3
   },
   "file_extension": ".py",
   "mimetype": "text/x-python",
   "name": "python",
   "nbconvert_exporter": "python",
   "pygments_lexer": "ipython3",
   "version": "3.12.7"
  }
 },
 "nbformat": 4,
 "nbformat_minor": 5
}
